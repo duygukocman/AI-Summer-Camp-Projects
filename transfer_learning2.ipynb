{
  "nbformat": 4,
  "nbformat_minor": 0,
  "metadata": {
    "colab": {
      "name": "transfer_learning2.ipynb",
      "provenance": []
    },
    "kernelspec": {
      "name": "python3",
      "display_name": "Python 3"
    },
    "language_info": {
      "name": "python"
    }
  },
  "cells": [
    {
      "cell_type": "code",
      "execution_count": 1,
      "metadata": {
        "colab": {
          "base_uri": "https://localhost:8080/"
        },
        "id": "xSivtgSS3P4z",
        "outputId": "4b40605d-886c-4cfd-bfd6-248fe4ffb421"
      },
      "outputs": [
        {
          "output_type": "stream",
          "name": "stdout",
          "text": [
            "/\n",
            "Mounted at /content/gdrive\n"
          ]
        }
      ],
      "source": [
        "#Drive'a bağlanma\n",
        "%cd ..\n",
        "from google.colab import drive\n",
        "drive.mount('/content/gdrive')\n",
        "!ln -s /content/gdrive/My\\ Drive/ /mydrive"
      ]
    },
    {
      "cell_type": "code",
      "source": [
        "#Drive içerisindeki dosyaları gösterme\n",
        "!ls"
      ],
      "metadata": {
        "colab": {
          "base_uri": "https://localhost:8080/"
        },
        "id": "q5yOFGaj3vFM",
        "outputId": "7a251cbb-c6ee-435c-dbda-74a763f67cdd"
      },
      "execution_count": 2,
      "outputs": [
        {
          "output_type": "stream",
          "name": "stdout",
          "text": [
            "bin\t dev   lib32  mydrive\t\t\tpython-apt  srv    usr\n",
            "boot\t etc   lib64  NGC-DL-CONTAINER-LICENSE\troot\t    sys    var\n",
            "content  home  media  opt\t\t\trun\t    tmp\n",
            "datalab  lib   mnt    proc\t\t\tsbin\t    tools\n"
          ]
        }
      ]
    },
    {
      "cell_type": "code",
      "source": [
        "from tensorflow import keras\n",
        "from tensorflow.keras import layers\n",
        "from google.colab import files\n",
        "import os\n",
        "import numpy as np\n",
        "import pandas as pd"
      ],
      "metadata": {
        "id": "bJQcb6tG4B8W"
      },
      "execution_count": 33,
      "outputs": []
    },
    {
      "cell_type": "code",
      "source": [
        "%cd /mydrive/\n",
        "with open('X_train_file.txt', 'r') as FOUT:\n",
        "    X_train = np.loadtxt(FOUT)"
      ],
      "metadata": {
        "colab": {
          "base_uri": "https://localhost:8080/"
        },
        "id": "W45ZLC7n4fGU",
        "outputId": "fddc2740-6dd1-4d89-f0d1-d33f3a508040"
      },
      "execution_count": 22,
      "outputs": [
        {
          "output_type": "stream",
          "name": "stdout",
          "text": [
            "/content/gdrive/My Drive\n"
          ]
        }
      ]
    },
    {
      "cell_type": "code",
      "source": [
        "with open('y_train_file.txt', 'r') as FOUT:\n",
        "    y_train = np.loadtxt(FOUT)"
      ],
      "metadata": {
        "id": "59wBuQ6q6U3_"
      },
      "execution_count": 23,
      "outputs": []
    },
    {
      "cell_type": "code",
      "source": [
        "with open('X_test_file.txt', 'r') as FOUT:\n",
        "    X_test = np.loadtxt(FOUT)"
      ],
      "metadata": {
        "id": "z2K6zbaa6XUe"
      },
      "execution_count": 25,
      "outputs": []
    },
    {
      "cell_type": "code",
      "source": [
        "with open('y_test_file.txt', 'r') as FOUT:\n",
        "    y_test = np.loadtxt(FOUT)"
      ],
      "metadata": {
        "id": "LQORtkoo6aYj"
      },
      "execution_count": 27,
      "outputs": []
    },
    {
      "cell_type": "code",
      "source": [
        "with open('X_val_file.txt', 'r') as FOUT:\n",
        "    X_val = np.loadtxt(FOUT)"
      ],
      "metadata": {
        "id": "XEgRQpTE6d-f"
      },
      "execution_count": 29,
      "outputs": []
    },
    {
      "cell_type": "code",
      "source": [
        "with open('y_val_file.txt', 'r') as FOUT:\n",
        "    y_val = np.loadtxt(FOUT)"
      ],
      "metadata": {
        "id": "Pnky-XOC6ej7"
      },
      "execution_count": 31,
      "outputs": []
    },
    {
      "cell_type": "code",
      "source": [
        "#Modeli oluşturma\n",
        "inputs = keras.Input(shape=(None,8192,1))\n",
        "x = layers.Conv2D(filters=32, kernel_size=3, activation=\"relu\")(inputs)\n",
        "x = layers.MaxPooling2D(pool_size=2)(x)\n",
        "x = layers.Conv2D(filters=64, kernel_size=3, activation=\"relu\")(x)\n",
        "x = layers.MaxPooling2D(pool_size=2)(x)\n",
        "x = layers.Conv2D(filters=128, kernel_size=3, activation=\"relu\")(x)\n",
        "x = layers.MaxPooling2D(pool_size=2)(x)\n",
        "#Binary veri olduğu için activation=sigmoid şeklinde verildi\n",
        "outputs = layers.Dense(1, activation=\"sigmoid\")(x)\n",
        "model = keras.Model(inputs=inputs, outputs=outputs)"
      ],
      "metadata": {
        "id": "treCEzdh8dKa"
      },
      "execution_count": 113,
      "outputs": []
    },
    {
      "cell_type": "code",
      "source": [
        "#Modeli derleme\n",
        "#Binary sınıf olduğu için kayıp (loss) fonksiyon = binary_crossentropy şeklinde tanımlandı\n",
        "model.compile(loss=\"binary_crossentropy\",\n",
        "              optimizer=\"rmsprop\",\n",
        "              #Ölçüm birimi olarak accuracy baz alındı\n",
        "              metrics=[\"accuracy\"])"
      ],
      "metadata": {
        "id": "mS27baHR9v-o"
      },
      "execution_count": 114,
      "outputs": []
    },
    {
      "cell_type": "code",
      "source": [
        "#Validation adımlarının en iyisini kaydetmek ve geri bildirim almak için tanımlandı\n",
        "#Modeli kontrol eder -- En iyisine kadar bakar ve validation değeri düştüğünde durur\n",
        "callbacks = [\n",
        " keras.callbacks.ModelCheckpoint(\n",
        " filepath=\"convnet_from_scratch.keras\",\n",
        " save_best_only=True,\n",
        " monitor=\"val_loss\")]"
      ],
      "metadata": {
        "id": "yDlm6LAOApy4"
      },
      "execution_count": 115,
      "outputs": []
    },
    {
      "cell_type": "code",
      "source": [
        "#Modelin eğitilmesi\n",
        "validation_data = (X_val,y_val)\n",
        "history = model.fit(\n",
        "    X_train,\n",
        "    y_train,\n",
        "    #Batch verilerin ne kadarlık boyutlarla taşınacağını belirler -- Modelin eğitimi, epochlar da bu şekilde ilerler\n",
        "    batch_size=64,\n",
        "    #Adım sayısı 2 olarak belirlendi\n",
        "    epochs=2,\n",
        "    validation_data=validation_data,\n",
        "    callbacks=callbacks)"
      ],
      "metadata": {
        "id": "fyN1q73191uN"
      },
      "execution_count": null,
      "outputs": []
    },
    {
      "cell_type": "code",
      "source": [
        "#Model grafiğinin train,val ve bu değerilerin doğruluk değeri ve kayıp fonksiyonuna göre oluşturlması için kullanılır.\n",
        "import matplotlib.pyplot as plt\n",
        "accuracy = history.history[\"accuracy\"]\n",
        "val_accuracy = history.history[\"val_accuracy\"]\n",
        "loss = history.history[\"loss\"]\n",
        "val_loss = history.history[\"val_loss\"]\n",
        "epochs = range(1, len(accuracy) + 1)\n",
        "plt.plot(epochs, accuracy, \"bo\", label=\"Training accuracy\")\n",
        "plt.plot(epochs, val_accuracy, \"b\", label=\"Validation accuracy\")\n",
        "plt.title(\"Training and validation accuracy\")\n",
        "plt.legend()\n",
        "plt.figure()\n",
        "plt.plot(epochs, loss, \"bo\", label=\"Training loss\")\n",
        "plt.plot(epochs, val_loss, \"b\", label=\"Validation loss\")\n",
        "plt.title(\"Training and validation loss\")\n",
        "plt.legend()\n",
        "plt.show()"
      ],
      "metadata": {
        "id": "wvaorqwcIa66"
      },
      "execution_count": null,
      "outputs": []
    },
    {
      "cell_type": "code",
      "source": [
        "#Modelin test edilmesi ve bu test sonucundaki asıl(modelin eğitim sonucundaki) doğruluk değerinin yazdırılması\n",
        "test_dataset = (X_test,y_test)\n",
        "test_model = keras.models.load_model(\"convnet_from_scratch.keras\")\n",
        "test_loss, test_acc = test_model.evaluate(test_dataset)\n",
        "print(f\"Test accuracy: {test_acc:.3f}\")"
      ],
      "metadata": {
        "id": "8nqtMgvDIfva"
      },
      "execution_count": null,
      "outputs": []
    }
  ]
}